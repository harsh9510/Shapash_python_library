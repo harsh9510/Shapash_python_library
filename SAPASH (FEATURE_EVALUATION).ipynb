{
 "cells": [
  {
   "cell_type": "code",
   "execution_count": 1,
   "metadata": {},
   "outputs": [],
   "source": [
    "import seaborn as sns"
   ]
  },
  {
   "cell_type": "code",
   "execution_count": 2,
   "metadata": {},
   "outputs": [],
   "source": [
    "df = sns.load_dataset(\"tips\")"
   ]
  },
  {
   "cell_type": "code",
   "execution_count": 3,
   "metadata": {},
   "outputs": [
    {
     "data": {
      "text/html": [
       "<div>\n",
       "<style scoped>\n",
       "    .dataframe tbody tr th:only-of-type {\n",
       "        vertical-align: middle;\n",
       "    }\n",
       "\n",
       "    .dataframe tbody tr th {\n",
       "        vertical-align: top;\n",
       "    }\n",
       "\n",
       "    .dataframe thead th {\n",
       "        text-align: right;\n",
       "    }\n",
       "</style>\n",
       "<table border=\"1\" class=\"dataframe\">\n",
       "  <thead>\n",
       "    <tr style=\"text-align: right;\">\n",
       "      <th></th>\n",
       "      <th>total_bill</th>\n",
       "      <th>tip</th>\n",
       "      <th>sex</th>\n",
       "      <th>smoker</th>\n",
       "      <th>day</th>\n",
       "      <th>time</th>\n",
       "      <th>size</th>\n",
       "    </tr>\n",
       "  </thead>\n",
       "  <tbody>\n",
       "    <tr>\n",
       "      <th>0</th>\n",
       "      <td>16.99</td>\n",
       "      <td>1.01</td>\n",
       "      <td>Female</td>\n",
       "      <td>No</td>\n",
       "      <td>Sun</td>\n",
       "      <td>Dinner</td>\n",
       "      <td>2</td>\n",
       "    </tr>\n",
       "    <tr>\n",
       "      <th>1</th>\n",
       "      <td>10.34</td>\n",
       "      <td>1.66</td>\n",
       "      <td>Male</td>\n",
       "      <td>No</td>\n",
       "      <td>Sun</td>\n",
       "      <td>Dinner</td>\n",
       "      <td>3</td>\n",
       "    </tr>\n",
       "    <tr>\n",
       "      <th>2</th>\n",
       "      <td>21.01</td>\n",
       "      <td>3.50</td>\n",
       "      <td>Male</td>\n",
       "      <td>No</td>\n",
       "      <td>Sun</td>\n",
       "      <td>Dinner</td>\n",
       "      <td>3</td>\n",
       "    </tr>\n",
       "    <tr>\n",
       "      <th>3</th>\n",
       "      <td>23.68</td>\n",
       "      <td>3.31</td>\n",
       "      <td>Male</td>\n",
       "      <td>No</td>\n",
       "      <td>Sun</td>\n",
       "      <td>Dinner</td>\n",
       "      <td>2</td>\n",
       "    </tr>\n",
       "    <tr>\n",
       "      <th>4</th>\n",
       "      <td>24.59</td>\n",
       "      <td>3.61</td>\n",
       "      <td>Female</td>\n",
       "      <td>No</td>\n",
       "      <td>Sun</td>\n",
       "      <td>Dinner</td>\n",
       "      <td>4</td>\n",
       "    </tr>\n",
       "    <tr>\n",
       "      <th>...</th>\n",
       "      <td>...</td>\n",
       "      <td>...</td>\n",
       "      <td>...</td>\n",
       "      <td>...</td>\n",
       "      <td>...</td>\n",
       "      <td>...</td>\n",
       "      <td>...</td>\n",
       "    </tr>\n",
       "    <tr>\n",
       "      <th>239</th>\n",
       "      <td>29.03</td>\n",
       "      <td>5.92</td>\n",
       "      <td>Male</td>\n",
       "      <td>No</td>\n",
       "      <td>Sat</td>\n",
       "      <td>Dinner</td>\n",
       "      <td>3</td>\n",
       "    </tr>\n",
       "    <tr>\n",
       "      <th>240</th>\n",
       "      <td>27.18</td>\n",
       "      <td>2.00</td>\n",
       "      <td>Female</td>\n",
       "      <td>Yes</td>\n",
       "      <td>Sat</td>\n",
       "      <td>Dinner</td>\n",
       "      <td>2</td>\n",
       "    </tr>\n",
       "    <tr>\n",
       "      <th>241</th>\n",
       "      <td>22.67</td>\n",
       "      <td>2.00</td>\n",
       "      <td>Male</td>\n",
       "      <td>Yes</td>\n",
       "      <td>Sat</td>\n",
       "      <td>Dinner</td>\n",
       "      <td>2</td>\n",
       "    </tr>\n",
       "    <tr>\n",
       "      <th>242</th>\n",
       "      <td>17.82</td>\n",
       "      <td>1.75</td>\n",
       "      <td>Male</td>\n",
       "      <td>No</td>\n",
       "      <td>Sat</td>\n",
       "      <td>Dinner</td>\n",
       "      <td>2</td>\n",
       "    </tr>\n",
       "    <tr>\n",
       "      <th>243</th>\n",
       "      <td>18.78</td>\n",
       "      <td>3.00</td>\n",
       "      <td>Female</td>\n",
       "      <td>No</td>\n",
       "      <td>Thur</td>\n",
       "      <td>Dinner</td>\n",
       "      <td>2</td>\n",
       "    </tr>\n",
       "  </tbody>\n",
       "</table>\n",
       "<p>244 rows × 7 columns</p>\n",
       "</div>"
      ],
      "text/plain": [
       "     total_bill   tip     sex smoker   day    time  size\n",
       "0         16.99  1.01  Female     No   Sun  Dinner     2\n",
       "1         10.34  1.66    Male     No   Sun  Dinner     3\n",
       "2         21.01  3.50    Male     No   Sun  Dinner     3\n",
       "3         23.68  3.31    Male     No   Sun  Dinner     2\n",
       "4         24.59  3.61  Female     No   Sun  Dinner     4\n",
       "..          ...   ...     ...    ...   ...     ...   ...\n",
       "239       29.03  5.92    Male     No   Sat  Dinner     3\n",
       "240       27.18  2.00  Female    Yes   Sat  Dinner     2\n",
       "241       22.67  2.00    Male    Yes   Sat  Dinner     2\n",
       "242       17.82  1.75    Male     No   Sat  Dinner     2\n",
       "243       18.78  3.00  Female     No  Thur  Dinner     2\n",
       "\n",
       "[244 rows x 7 columns]"
      ]
     },
     "execution_count": 3,
     "metadata": {},
     "output_type": "execute_result"
    }
   ],
   "source": [
    "df"
   ]
  },
  {
   "cell_type": "code",
   "execution_count": 4,
   "metadata": {},
   "outputs": [],
   "source": [
    "#devide_dependent_independent\n",
    "y = df[\"tip\"]\n",
    "x = df[df.columns.difference([\"tip\"])]"
   ]
  },
  {
   "cell_type": "code",
   "execution_count": 5,
   "metadata": {},
   "outputs": [
    {
     "name": "stdout",
     "output_type": "stream",
     "text": [
      "<class 'pandas.core.frame.DataFrame'>\n",
      "RangeIndex: 244 entries, 0 to 243\n",
      "Data columns (total 7 columns):\n",
      " #   Column      Non-Null Count  Dtype   \n",
      "---  ------      --------------  -----   \n",
      " 0   total_bill  244 non-null    float64 \n",
      " 1   tip         244 non-null    float64 \n",
      " 2   sex         244 non-null    category\n",
      " 3   smoker      244 non-null    category\n",
      " 4   day         244 non-null    category\n",
      " 5   time        244 non-null    category\n",
      " 6   size        244 non-null    int64   \n",
      "dtypes: category(4), float64(2), int64(1)\n",
      "memory usage: 7.4 KB\n"
     ]
    }
   ],
   "source": [
    "df.info()"
   ]
  },
  {
   "cell_type": "code",
   "execution_count": 6,
   "metadata": {},
   "outputs": [
    {
     "name": "stderr",
     "output_type": "stream",
     "text": [
      "C:\\conda_project\\lib\\site-packages\\ipykernel_launcher.py:2: SettingWithCopyWarning: \n",
      "A value is trying to be set on a copy of a slice from a DataFrame.\n",
      "Try using .loc[row_indexer,col_indexer] = value instead\n",
      "\n",
      "See the caveats in the documentation: https://pandas.pydata.org/pandas-docs/stable/user_guide/indexing.html#returning-a-view-versus-a-copy\n",
      "  \n",
      "C:\\conda_project\\lib\\site-packages\\ipykernel_launcher.py:3: SettingWithCopyWarning: \n",
      "A value is trying to be set on a copy of a slice from a DataFrame.\n",
      "Try using .loc[row_indexer,col_indexer] = value instead\n",
      "\n",
      "See the caveats in the documentation: https://pandas.pydata.org/pandas-docs/stable/user_guide/indexing.html#returning-a-view-versus-a-copy\n",
      "  This is separate from the ipykernel package so we can avoid doing imports until\n",
      "C:\\conda_project\\lib\\site-packages\\ipykernel_launcher.py:4: SettingWithCopyWarning: \n",
      "A value is trying to be set on a copy of a slice from a DataFrame.\n",
      "Try using .loc[row_indexer,col_indexer] = value instead\n",
      "\n",
      "See the caveats in the documentation: https://pandas.pydata.org/pandas-docs/stable/user_guide/indexing.html#returning-a-view-versus-a-copy\n",
      "  after removing the cwd from sys.path.\n",
      "C:\\conda_project\\lib\\site-packages\\ipykernel_launcher.py:5: SettingWithCopyWarning: \n",
      "A value is trying to be set on a copy of a slice from a DataFrame.\n",
      "Try using .loc[row_indexer,col_indexer] = value instead\n",
      "\n",
      "See the caveats in the documentation: https://pandas.pydata.org/pandas-docs/stable/user_guide/indexing.html#returning-a-view-versus-a-copy\n",
      "  \"\"\"\n"
     ]
    }
   ],
   "source": [
    "#label_encoder\n",
    "x[\"sex\"] = x[\"sex\"].cat.codes\n",
    "x[\"smoker\"] = x[\"smoker\"].cat.codes\n",
    "x[\"day\"] = x[\"day\"].cat.codes\n",
    "x[\"time\"] = x[\"time\"].cat.codes"
   ]
  },
  {
   "cell_type": "code",
   "execution_count": 7,
   "metadata": {},
   "outputs": [],
   "source": [
    "#train_test_split\n",
    "from sklearn.model_selection import train_test_split\n",
    "x_train,X_test,y_train,y_test = train_test_split(x,y,train_size = 0.7)"
   ]
  },
  {
   "cell_type": "code",
   "execution_count": 8,
   "metadata": {},
   "outputs": [],
   "source": [
    "from sklearn.ensemble import RandomForestRegressor\n",
    "regressor = RandomForestRegressor(n_estimators = 200).fit(x_train,y_train)\n"
   ]
  },
  {
   "cell_type": "code",
   "execution_count": 9,
   "metadata": {},
   "outputs": [],
   "source": [
    "from shapash.explainer.smart_explainer import SmartExplainer"
   ]
  },
  {
   "cell_type": "code",
   "execution_count": 10,
   "metadata": {},
   "outputs": [],
   "source": [
    "xpl = SmartExplainer()"
   ]
  },
  {
   "cell_type": "code",
   "execution_count": 11,
   "metadata": {},
   "outputs": [
    {
     "name": "stdout",
     "output_type": "stream",
     "text": [
      "Backend: Shap TreeExplainer\n"
     ]
    }
   ],
   "source": [
    "xpl.compile(x = X_test,\n",
    "           model = regressor,)"
   ]
  },
  {
   "cell_type": "code",
   "execution_count": 12,
   "metadata": {},
   "outputs": [
    {
     "name": "stderr",
     "output_type": "stream",
     "text": [
      "INFO:numexpr.utils:NumExpr defaulting to 8 threads.\n",
      "C:\\conda_project\\lib\\site-packages\\pandas\\core\\frame.py:1554: FutureWarning:\n",
      "\n",
      "Using short name for 'orient' is deprecated. Only the options: ('dict', list, 'series', 'split', 'records', 'index') will be used in a future version. Use one of the above to silence this warning.\n",
      "\n",
      "INFO:root:Your Shapash application run on http://DESKTOP-5NRGU0T:8050/\n"
     ]
    },
    {
     "name": "stdout",
     "output_type": "stream",
     "text": [
      "Dash is running on http://0.0.0.0:8050/\n",
      "\n"
     ]
    },
    {
     "name": "stderr",
     "output_type": "stream",
     "text": [
      "INFO:root:Use the method .kill() to down your app.\n",
      "INFO:shapash.webapp.smart_app:Dash is running on http://0.0.0.0:8050/\n",
      "\n"
     ]
    },
    {
     "name": "stdout",
     "output_type": "stream",
     "text": [
      " * Serving Flask app \"shapash.webapp.smart_app\" (lazy loading)\n",
      " * Environment: production\n",
      "   WARNING: This is a development server. Do not use it in a production deployment.\n",
      "   Use a production WSGI server instead.\n",
      " * Debug mode: off\n"
     ]
    },
    {
     "name": "stderr",
     "output_type": "stream",
     "text": [
      "INFO:werkzeug: * Running on http://0.0.0.0:8050/ (Press CTRL+C to quit)\n",
      "INFO:werkzeug:192.168.0.102 - - [13/Apr/2021 23:19:33] \"\u001b[37mGET / HTTP/1.1\u001b[0m\" 200 -\n",
      "INFO:werkzeug:192.168.0.102 - - [13/Apr/2021 23:19:33] \"\u001b[37mGET /assets/material-icons.css?m=1617901795.3441286 HTTP/1.1\u001b[0m\" 200 -\n",
      "INFO:werkzeug:192.168.0.102 - - [13/Apr/2021 23:19:33] \"\u001b[37mGET /assets/style.css?m=1617901795.3539288 HTTP/1.1\u001b[0m\" 200 -\n",
      "INFO:werkzeug:192.168.0.102 - - [13/Apr/2021 23:19:33] \"\u001b[37mGET /_dash-component-suites/dash_renderer/prop-types@15.v1_8_3m1617900808.7.2.min.js HTTP/1.1\u001b[0m\" 200 -\n",
      "INFO:werkzeug:192.168.0.102 - - [13/Apr/2021 23:19:33] \"\u001b[37mGET /_dash-component-suites/dash_renderer/react@16.v1_8_3m1617900808.14.0.min.js HTTP/1.1\u001b[0m\" 200 -\n",
      "INFO:werkzeug:192.168.0.102 - - [13/Apr/2021 23:19:33] \"\u001b[37mGET /_dash-component-suites/dash_renderer/polyfill@7.v1_8_3m1617900808.8.7.min.js HTTP/1.1\u001b[0m\" 200 -\n",
      "INFO:werkzeug:192.168.0.102 - - [13/Apr/2021 23:19:33] \"\u001b[37mGET /_dash-component-suites/dash_core_components/dash_core_components-shared.v1_13_0m1617900809.js HTTP/1.1\u001b[0m\" 200 -\n",
      "INFO:werkzeug:192.168.0.102 - - [13/Apr/2021 23:19:33] \"\u001b[37mGET /_dash-component-suites/dash_core_components/dash_core_components.v1_13_0m1617900809.min.js HTTP/1.1\u001b[0m\" 200 -\n",
      "INFO:werkzeug:192.168.0.102 - - [13/Apr/2021 23:19:33] \"\u001b[37mGET /_dash-component-suites/dash_table/bundle.v4_11_0m1617900812.js HTTP/1.1\u001b[0m\" 200 -\n",
      "INFO:werkzeug:192.168.0.102 - - [13/Apr/2021 23:19:33] \"\u001b[37mGET /_dash-component-suites/dash_html_components/dash_html_components.v1_1_1m1617900545.min.js HTTP/1.1\u001b[0m\" 200 -\n",
      "INFO:werkzeug:192.168.0.102 - - [13/Apr/2021 23:19:33] \"\u001b[37mGET /assets/main.js?m=1617901795.3439803 HTTP/1.1\u001b[0m\" 200 -\n",
      "INFO:werkzeug:192.168.0.102 - - [13/Apr/2021 23:19:33] \"\u001b[37mGET /_dash-component-suites/dash_bootstrap_components/_components/dash_bootstrap_components.v0_9_1m1617901793.min.js HTTP/1.1\u001b[0m\" 200 -\n",
      "INFO:werkzeug:192.168.0.102 - - [13/Apr/2021 23:19:33] \"\u001b[37mGET /assets/jquery.js?m=1617901795.3426156 HTTP/1.1\u001b[0m\" 200 -\n",
      "INFO:werkzeug:192.168.0.102 - - [13/Apr/2021 23:19:33] \"\u001b[37mGET /_dash-component-suites/dash_renderer/react-dom@16.v1_8_3m1617900808.14.0.min.js HTTP/1.1\u001b[0m\" 200 -\n",
      "INFO:werkzeug:192.168.0.102 - - [13/Apr/2021 23:19:33] \"\u001b[37mGET /_dash-component-suites/dash_renderer/dash_renderer.v1_8_3m1617900808.min.js HTTP/1.1\u001b[0m\" 200 -\n",
      "INFO:werkzeug:192.168.0.102 - - [13/Apr/2021 23:19:33] \"\u001b[37mGET /_dash-dependencies HTTP/1.1\u001b[0m\" 200 -\n",
      "INFO:werkzeug:192.168.0.102 - - [13/Apr/2021 23:19:33] \"\u001b[37mGET /_dash-layout HTTP/1.1\u001b[0m\" 200 -\n",
      "INFO:werkzeug:192.168.0.102 - - [13/Apr/2021 23:19:33] \"\u001b[37mGET /assets/shapash-fond-fonce.png HTTP/1.1\u001b[0m\" 200 -\n",
      "INFO:werkzeug:192.168.0.102 - - [13/Apr/2021 23:19:33] \"\u001b[37mGET /_dash-component-suites/dash_core_components/async-graph.v1_13_0m1604001894.js HTTP/1.1\u001b[0m\" 200 -\n",
      "INFO:werkzeug:192.168.0.102 - - [13/Apr/2021 23:19:33] \"\u001b[37mGET /_dash-component-suites/dash_core_components/async-dropdown.v1_13_0m1604001894.js HTTP/1.1\u001b[0m\" 200 -\n",
      "INFO:werkzeug:192.168.0.102 - - [13/Apr/2021 23:19:33] \"\u001b[37mGET /assets/settings.png HTTP/1.1\u001b[0m\" 200 -\n",
      "INFO:werkzeug:192.168.0.102 - - [13/Apr/2021 23:19:33] \"\u001b[37mGET /assets/reload.png HTTP/1.1\u001b[0m\" 200 -\n",
      "INFO:werkzeug:192.168.0.102 - - [13/Apr/2021 23:19:33] \"\u001b[37mGET /_dash-component-suites/dash_core_components/async-slider.v1_13_0m1604001894.js HTTP/1.1\u001b[0m\" 200 -\n",
      "INFO:werkzeug:192.168.0.102 - - [13/Apr/2021 23:19:33] \"\u001b[37mPOST /_dash-update-component HTTP/1.1\u001b[0m\" 200 -\n",
      "INFO:werkzeug:192.168.0.102 - - [13/Apr/2021 23:19:34] \"\u001b[37mPOST /_dash-update-component HTTP/1.1\u001b[0m\" 200 -\n",
      "INFO:werkzeug:192.168.0.102 - - [13/Apr/2021 23:19:34] \"\u001b[37mPOST /_dash-update-component HTTP/1.1\u001b[0m\" 200 -\n",
      "INFO:werkzeug:192.168.0.102 - - [13/Apr/2021 23:19:34] \"\u001b[37mPOST /_dash-update-component HTTP/1.1\u001b[0m\" 200 -\n",
      "INFO:werkzeug:192.168.0.102 - - [13/Apr/2021 23:19:34] \"\u001b[37mPOST /_dash-update-component HTTP/1.1\u001b[0m\" 200 -\n",
      "INFO:werkzeug:192.168.0.102 - - [13/Apr/2021 23:19:34] \"\u001b[37mPOST /_dash-update-component HTTP/1.1\u001b[0m\" 200 -\n",
      "INFO:werkzeug:192.168.0.102 - - [13/Apr/2021 23:19:34] \"\u001b[37mPOST /_dash-update-component HTTP/1.1\u001b[0m\" 200 -\n",
      "INFO:werkzeug:192.168.0.102 - - [13/Apr/2021 23:19:34] \"\u001b[37mPOST /_dash-update-component HTTP/1.1\u001b[0m\" 200 -\n",
      "INFO:werkzeug:192.168.0.102 - - [13/Apr/2021 23:19:34] \"\u001b[37mPOST /_dash-update-component HTTP/1.1\u001b[0m\" 200 -\n",
      "INFO:werkzeug:192.168.0.102 - - [13/Apr/2021 23:19:34] \"\u001b[37mPOST /_dash-update-component HTTP/1.1\u001b[0m\" 200 -\n",
      "INFO:werkzeug:192.168.0.102 - - [13/Apr/2021 23:19:34] \"\u001b[37mGET /_dash-component-suites/dash_table/async-table.v4_11_0m1604001235.js HTTP/1.1\u001b[0m\" 200 -\n",
      "INFO:werkzeug:192.168.0.102 - - [13/Apr/2021 23:19:34] \"\u001b[37mPOST /_dash-update-component HTTP/1.1\u001b[0m\" 200 -\n",
      "INFO:werkzeug:192.168.0.102 - - [13/Apr/2021 23:19:34] \"\u001b[37mPOST /_dash-update-component HTTP/1.1\u001b[0m\" 200 -\n",
      "INFO:werkzeug:192.168.0.102 - - [13/Apr/2021 23:19:34] \"\u001b[37mGET /_dash-component-suites/dash_core_components/async-plotlyjs.v1_13_0m1604001894.js HTTP/1.1\u001b[0m\" 200 -\n",
      "INFO:werkzeug:192.168.0.102 - - [13/Apr/2021 23:19:34] \"\u001b[37mPOST /_dash-update-component HTTP/1.1\u001b[0m\" 200 -\n",
      "INFO:werkzeug:192.168.0.102 - - [13/Apr/2021 23:19:34] \"\u001b[37mPOST /_dash-update-component HTTP/1.1\u001b[0m\" 200 -\n",
      "INFO:werkzeug:192.168.0.102 - - [13/Apr/2021 23:19:34] \"\u001b[37mPOST /_dash-update-component HTTP/1.1\u001b[0m\" 200 -\n",
      "INFO:werkzeug:192.168.0.102 - - [13/Apr/2021 23:19:34] \"\u001b[37mPOST /_dash-update-component HTTP/1.1\u001b[0m\" 200 -\n",
      "INFO:werkzeug:192.168.0.102 - - [13/Apr/2021 23:19:35] \"\u001b[37mPOST /_dash-update-component HTTP/1.1\u001b[0m\" 200 -\n",
      "INFO:werkzeug:192.168.0.102 - - [13/Apr/2021 23:19:35] \"\u001b[37mPOST /_dash-update-component HTTP/1.1\u001b[0m\" 200 -\n",
      "INFO:werkzeug:192.168.0.102 - - [13/Apr/2021 23:19:35] \"\u001b[37mPOST /_dash-update-component HTTP/1.1\u001b[0m\" 200 -\n"
     ]
    }
   ],
   "source": [
    "app = xpl.run_app(title_story = \"tips_dataset\")"
   ]
  },
  {
   "cell_type": "code",
   "execution_count": null,
   "metadata": {},
   "outputs": [],
   "source": []
  },
  {
   "cell_type": "code",
   "execution_count": null,
   "metadata": {},
   "outputs": [],
   "source": []
  }
 ],
 "metadata": {
  "kernelspec": {
   "display_name": "Python 3",
   "language": "python",
   "name": "python3"
  },
  "language_info": {
   "codemirror_mode": {
    "name": "ipython",
    "version": 3
   },
   "file_extension": ".py",
   "mimetype": "text/x-python",
   "name": "python",
   "nbconvert_exporter": "python",
   "pygments_lexer": "ipython3",
   "version": "3.7.6"
  }
 },
 "nbformat": 4,
 "nbformat_minor": 4
}
